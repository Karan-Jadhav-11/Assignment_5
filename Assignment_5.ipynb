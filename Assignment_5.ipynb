{
 "cells": [
  {
   "cell_type": "markdown",
   "id": "b2f781cd-e490-4e7e-99e2-9944d91eb49a",
   "metadata": {},
   "source": [
    "# Assignment 5"
   ]
  },
  {
   "cell_type": "markdown",
   "id": "0840a376-00c9-4ce6-80b1-a2dcf8df60f4",
   "metadata": {},
   "source": [
    "### Q1. Create a python program to sort the given list of tuples based on integer value using a lambda function."
   ]
  },
  {
   "cell_type": "markdown",
   "id": "102d3e2b-3fa9-4545-bbe7-1882f7fe1def",
   "metadata": {},
   "source": [
    "### ANS:"
   ]
  },
  {
   "cell_type": "code",
   "execution_count": 6,
   "id": "49cf5e45-72c6-4fe0-9714-e122b331645a",
   "metadata": {},
   "outputs": [
    {
     "name": "stdout",
     "output_type": "stream",
     "text": [
      "sorted list of tuple is :\n",
      "('Virat Kohli', 24936)\n",
      "('Jack Kallis', 25534)\n",
      "('Ricky Ponting', 27483)\n",
      "('Sachin Tendulkar', 34357)\n"
     ]
    }
   ],
   "source": [
    "# given list of tuple -> [('Sachin Tendulkar', 34357), ('Ricky Ponting', 27483), ('Jack Kallis', 25534), ('Virat Kohli', 24936)]\n",
    "\n",
    "l =  [('Sachin Tendulkar', 34357), ('Ricky Ponting', 27483), ('Jack Kallis', 25534), ('Virat Kohli', 24936)]\n",
    "sorted_l= sorted(l,key=lambda x:x[1]) \n",
    "print(\"sorted list of tuple is :\")\n",
    "for i in sorted_l:\n",
    "    print(i)"
   ]
  },
  {
   "cell_type": "code",
   "execution_count": null,
   "id": "0f5acfa4-2d66-41e6-84e2-fcc0af93ba4c",
   "metadata": {},
   "outputs": [],
   "source": []
  },
  {
   "cell_type": "markdown",
   "id": "c136f97c-dc34-4bb2-9447-67d0a28267fb",
   "metadata": {},
   "source": [
    "### Q2. Write a Python Program to find the squares of all the numbers in the given list of integers using\n",
    "### lambda and map functions.\n",
    "### [1, 2, 3, 4, 5, 6, 7, 8, 9, 10]"
   ]
  },
  {
   "cell_type": "markdown",
   "id": "51ca94e2-06b1-41cf-86f1-24747210ba0e",
   "metadata": {},
   "source": [
    "### ANS:"
   ]
  },
  {
   "cell_type": "code",
   "execution_count": 27,
   "id": "e7b7a5bb-7e77-41cc-a827-178cbfd6114a",
   "metadata": {},
   "outputs": [
    {
     "name": "stdout",
     "output_type": "stream",
     "text": [
      "Original List: [1, 2, 3, 4, 5, 6, 7, 8, 9, 10]\n",
      "Squares of Numbers: [1, 4, 9, 16, 25, 36, 49, 64, 81, 100]\n"
     ]
    }
   ],
   "source": [
    "# Using lamda and map  function\n",
    "l = [1, 2, 3, 4, 5, 6, 7, 8, 9, 10]\n",
    "\n",
    "sq = list(map(lambda  i :  i**2 , l))\n",
    "\n",
    "print(\"Original List:\", l)\n",
    "print(\"Squares of Numbers:\", sq)\n"
   ]
  },
  {
   "cell_type": "code",
   "execution_count": null,
   "id": "c11d7fca-bbcb-4f8a-b639-d000d9ffae5b",
   "metadata": {},
   "outputs": [],
   "source": []
  },
  {
   "cell_type": "markdown",
   "id": "7e6e946b-dd01-4af3-91b2-a102098bfcb6",
   "metadata": {},
   "source": [
    "### Q3. Write a python program to convert the given list of integers into a tuple of strings. Use map and\n",
    "### lambda functions\n",
    "### Given String: [1, 2, 3, 4, 5, 6, 7, 8, 9, 10]\n",
    "### Expected output: ('1', '2', '3', '4', '5', '6', '7', '8', '9', '10')"
   ]
  },
  {
   "cell_type": "markdown",
   "id": "24a30371-acdf-46d5-aada-da5ae791f610",
   "metadata": {},
   "source": [
    "### ANS : "
   ]
  },
  {
   "cell_type": "code",
   "execution_count": 33,
   "id": "7ec5d714-1163-4b1d-a67c-ace90277fe3c",
   "metadata": {},
   "outputs": [
    {
     "name": "stdout",
     "output_type": "stream",
     "text": [
      " original list  [1, 2, 3, 4, 5, 6, 7, 8, 9, 10]\n",
      "converted into tuple  ('1', '2', '3', '4', '5', '6', '7', '8', '9', '10')\n"
     ]
    }
   ],
   "source": [
    "# given int list l\n",
    "\n",
    "l =  [1, 2, 3, 4, 5, 6, 7, 8, 9, 10]\n",
    "print(\" original list \", l) \n",
    "\n",
    "# converted list of intiger  into tuple of string\n",
    "\n",
    "t = tuple(map( lambda x : str(x) , l ))\n",
    "print(\"converted into tuple \", t)\n"
   ]
  },
  {
   "cell_type": "code",
   "execution_count": null,
   "id": "fdefedaa-e20a-444e-a151-fbd0d01e1b85",
   "metadata": {},
   "outputs": [],
   "source": []
  },
  {
   "cell_type": "markdown",
   "id": "1870e821-216e-4611-b7e5-cd4e55204553",
   "metadata": {},
   "source": [
    "### Q4. Write a python program using reduce function to compute the product of a list containing numbers from 1 to 25."
   ]
  },
  {
   "cell_type": "markdown",
   "id": "a50a8958-d6a1-4d96-93b1-ccbe0546f4a0",
   "metadata": {},
   "source": [
    "### ANS :"
   ]
  },
  {
   "cell_type": "code",
   "execution_count": 4,
   "id": "d0c20d04-84d9-47b9-9e06-77c87b2ced33",
   "metadata": {},
   "outputs": [
    {
     "name": "stdout",
     "output_type": "stream",
     "text": [
      " original liat :  [1, 2, 3, 4, 5, 6, 7, 8, 9, 10, 11, 12, 13, 14, 15, 16, 17, 18, 19, 20, 21, 22, 23, 24, 25]\n",
      "product =  15511210043330985984000000\n"
     ]
    }
   ],
   "source": [
    "from functools import reduce\n",
    "\n",
    "num = list(range(1,26))\n",
    "# original number print\n",
    "print(\" original liat : \" , num)\n",
    "\n",
    "# using resuce function product of given list\n",
    "product = reduce( lambda x , y : x*y , num)\n",
    "\n",
    "print(\"product = \", product)"
   ]
  },
  {
   "cell_type": "code",
   "execution_count": null,
   "id": "acf040f7-8184-4019-b92e-45493218855c",
   "metadata": {},
   "outputs": [],
   "source": []
  },
  {
   "cell_type": "markdown",
   "id": "f7f0427d-06eb-4f4c-98cb-b4b70a691862",
   "metadata": {},
   "source": [
    "### Q5. Write a python program to filter the numbers in a given list that are divisible by 2 and 3 using the filter function.\n",
    "### [2, 3, 6, 9, 27, 60, 90, 120, 55, 46]"
   ]
  },
  {
   "cell_type": "markdown",
   "id": "fb920630-6faa-48a5-847d-e2729376b568",
   "metadata": {},
   "source": [
    "### ANS :"
   ]
  },
  {
   "cell_type": "code",
   "execution_count": 11,
   "id": "f50febf4-09d5-4d08-9287-6a98568e9ff2",
   "metadata": {},
   "outputs": [
    {
     "name": "stdout",
     "output_type": "stream",
     "text": [
      "[2, 3, 6, 9, 27, 60, 90, 120, 55, 46]\n"
     ]
    }
   ],
   "source": [
    "l = [2, 3, 6, 9, 27, 60, 90, 120, 55, 46]\n",
    "print(l)"
   ]
  },
  {
   "cell_type": "code",
   "execution_count": 13,
   "id": "f6128dcf-46b9-4d6d-85fc-97778dbcff3a",
   "metadata": {},
   "outputs": [
    {
     "name": "stdout",
     "output_type": "stream",
     "text": [
      "[6, 60, 90, 120]\n"
     ]
    }
   ],
   "source": [
    "# given list \n",
    "# using filter fuction\n",
    " \n",
    "div = list(filter(lambda x : x%2 ==0 and x%3 == 0 , l))\n",
    "\n",
    "print(div)"
   ]
  },
  {
   "cell_type": "code",
   "execution_count": null,
   "id": "85e8eccd-1a47-4efa-a207-ee7932533dc8",
   "metadata": {},
   "outputs": [],
   "source": []
  },
  {
   "cell_type": "markdown",
   "id": "da5ca8e9-788e-4112-9568-808aee6aa887",
   "metadata": {},
   "source": [
    "### Q6. Write a python program to find palindromes in the given list of strings using lambda and filter function.\n",
    "### ['python', 'php', 'aba', 'radar', 'level']"
   ]
  },
  {
   "cell_type": "markdown",
   "id": "f3f536ea-9943-42cd-b3dc-375d001374c7",
   "metadata": {},
   "source": [
    "### ANS :"
   ]
  },
  {
   "cell_type": "code",
   "execution_count": 25,
   "id": "fc02ced2-77bc-4842-b210-e359f8847306",
   "metadata": {},
   "outputs": [
    {
     "name": "stdout",
     "output_type": "stream",
     "text": [
      "given list of strings ['python', 'php', 'aba', 'radar', 'level']\n",
      "list of palimdrome strings:  ['php', 'aba', 'radar', 'level']\n"
     ]
    }
   ],
   "source": [
    "# given list of steing l\n",
    "l = ['python', 'php', 'aba', 'radar', 'level']\n",
    "print(\"given list of strings\" , l)\n",
    "\n",
    "# palindrome check using filter function\n",
    "\n",
    "palimdrome = list ( filter(lambda x : x == x[::-1] , l))\n",
    "print(\"list of palimdrome strings: \", palimdrome)"
   ]
  },
  {
   "cell_type": "code",
   "execution_count": 22,
   "id": "d58ac4c4-901c-4c98-a896-e9e1620a5f92",
   "metadata": {},
   "outputs": [],
   "source": []
  },
  {
   "cell_type": "code",
   "execution_count": null,
   "id": "d0a86ca6-d3bb-4ba4-b69a-47c1e085cdf3",
   "metadata": {},
   "outputs": [],
   "source": []
  }
 ],
 "metadata": {
  "kernelspec": {
   "display_name": "Python 3 (ipykernel)",
   "language": "python",
   "name": "python3"
  },
  "language_info": {
   "codemirror_mode": {
    "name": "ipython",
    "version": 3
   },
   "file_extension": ".py",
   "mimetype": "text/x-python",
   "name": "python",
   "nbconvert_exporter": "python",
   "pygments_lexer": "ipython3",
   "version": "3.10.8"
  }
 },
 "nbformat": 4,
 "nbformat_minor": 5
}
